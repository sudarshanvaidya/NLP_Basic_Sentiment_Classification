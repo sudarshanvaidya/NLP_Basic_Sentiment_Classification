{
 "cells": [
  {
   "cell_type": "markdown",
   "metadata": {
    "colab_type": "text",
    "id": "30Nk0H645vvE"
   },
   "source": [
    "# NLP - Basic Sentiment Classification Model"
   ]
  },
  {
   "cell_type": "markdown",
   "metadata": {},
   "source": [
    "#### Natural Language Processing - Basic Sentiment classification using Keras IMDB dataset \n",
    "1. Data pre-processing - define vocabulary size, train-test split, sequence padding \n",
    "2. Keras model designing with embeddings, dense layers and dropouts, sigmoid activation \n",
    "3. Train the model and print accuracy \n",
    "4. Retrieve the output of each layer in keras for a given single test sample \n",
    "\n"
   ]
  },
  {
   "cell_type": "markdown",
   "metadata": {
    "colab_type": "text",
    "id": "5HSt6Dx26Swr"
   },
   "source": [
    "### Import Necessary Libraries"
   ]
  },
  {
   "cell_type": "code",
   "execution_count": 1,
   "metadata": {
    "colab": {
     "base_uri": "https://localhost:8080/",
     "height": 81
    },
    "colab_type": "code",
    "id": "zMtQWZuo5ULE",
    "outputId": "cbbda2f2-1700-47da-8c4c-47cc5eb2fbb8"
   },
   "outputs": [
    {
     "data": {
      "text/html": [
       "<p style=\"color: red;\">\n",
       "The default version of TensorFlow in Colab will soon switch to TensorFlow 2.x.<br>\n",
       "We recommend you <a href=\"https://www.tensorflow.org/guide/migrate\" target=\"_blank\">upgrade</a> now \n",
       "or ensure your notebook will continue to use TensorFlow 1.x via the <code>%tensorflow_version 1.x</code> magic:\n",
       "<a href=\"https://colab.research.google.com/notebooks/tensorflow_version.ipynb\" target=\"_blank\">more info</a>.</p>\n"
      ],
      "text/plain": [
       "<IPython.core.display.HTML object>"
      ]
     },
     "metadata": {
      "tags": []
     },
     "output_type": "display_data"
    },
    {
     "name": "stderr",
     "output_type": "stream",
     "text": [
      "Using TensorFlow backend.\n"
     ]
    }
   ],
   "source": [
    "import os  \n",
    "import numpy as np\n",
    "import pandas as pd\n",
    "import matplotlib.pyplot as plt\n",
    "import warnings\n",
    "warnings.filterwarnings('ignore')\n",
    "#get_ipython().magic(u'matplotlib inline')\n",
    "#plt.style.use('ggplot')\n",
    "\n",
    "import tensorflow as tf\n",
    "\n",
    "from keras import models, regularizers, layers, optimizers, losses, metrics\n",
    "from keras.models import Sequential\n",
    "from keras.layers import Dense\n",
    "from keras.layers import Embedding\n",
    "from keras.layers import Flatten\n",
    "from keras.utils import np_utils, to_categorical\n",
    " \n",
    "from keras.datasets import imdb"
   ]
  },
  {
   "cell_type": "markdown",
   "metadata": {
    "colab_type": "text",
    "id": "Wq4RCyyPSYRp"
   },
   "source": [
    "### Load and Split the Dataset into Train and Test"
   ]
  },
  {
   "cell_type": "code",
   "execution_count": 0,
   "metadata": {
    "colab": {},
    "colab_type": "code",
    "id": "rD_dc1u447BN"
   },
   "outputs": [],
   "source": [
    "vocab_size = 10000 #vocab size\n",
    "\n",
    "(x_train, y_train), (x_test, y_test) = imdb.load_data(num_words=vocab_size) \n",
    "# vocab_size is no.of words to consider from the dataset, ordering based on frequency."
   ]
  },
  {
   "cell_type": "code",
   "execution_count": 0,
   "metadata": {
    "colab": {},
    "colab_type": "code",
    "id": "zVadlo-M6boj"
   },
   "outputs": [],
   "source": [
    "#make all sequences of the same length\n",
    "from keras.preprocessing.sequence import pad_sequences\n",
    "maxlen = 300  #number of word used from each review\n",
    "x_train = pad_sequences(x_train, maxlen=maxlen)\n",
    "x_test =  pad_sequences(x_test, maxlen=maxlen)"
   ]
  },
  {
   "cell_type": "markdown",
   "metadata": {
    "colab_type": "text",
    "id": "UUAd9_tN6mIa"
   },
   "source": [
    "### Check dataset shapes and sample data"
   ]
  },
  {
   "cell_type": "code",
   "execution_count": 4,
   "metadata": {
    "colab": {
     "base_uri": "https://localhost:8080/",
     "height": 34
    },
    "colab_type": "code",
    "id": "fCPC_WN-eCyw",
    "outputId": "4de6e2a5-fe38-48f1-a278-213226e4b804"
   },
   "outputs": [
    {
     "data": {
      "text/plain": [
       "(25000, 300)"
      ]
     },
     "execution_count": 4,
     "metadata": {
      "tags": []
     },
     "output_type": "execute_result"
    }
   ],
   "source": [
    "x_train.shape"
   ]
  },
  {
   "cell_type": "code",
   "execution_count": 5,
   "metadata": {
    "colab": {
     "base_uri": "https://localhost:8080/",
     "height": 34
    },
    "colab_type": "code",
    "id": "pbAG669D9B9M",
    "outputId": "3b3697e0-6012-4eb1-dee2-0ebeda9e1171"
   },
   "outputs": [
    {
     "data": {
      "text/plain": [
       "(25000, 300)"
      ]
     },
     "execution_count": 5,
     "metadata": {
      "tags": []
     },
     "output_type": "execute_result"
    }
   ],
   "source": [
    "x_test.shape"
   ]
  },
  {
   "cell_type": "code",
   "execution_count": 6,
   "metadata": {
    "colab": {
     "base_uri": "https://localhost:8080/",
     "height": 34
    },
    "colab_type": "code",
    "id": "MoMl5E-m9fav",
    "outputId": "bb406290-49f8-41e4-b878-9a864552db02"
   },
   "outputs": [
    {
     "data": {
      "text/plain": [
       "(25000,)"
      ]
     },
     "execution_count": 6,
     "metadata": {
      "tags": []
     },
     "output_type": "execute_result"
    }
   ],
   "source": [
    "y_train.shape"
   ]
  },
  {
   "cell_type": "code",
   "execution_count": 7,
   "metadata": {
    "colab": {
     "base_uri": "https://localhost:8080/",
     "height": 34
    },
    "colab_type": "code",
    "id": "PKh67U1z9jS8",
    "outputId": "57701136-47a9-4ee6-fa29-8354c386169b"
   },
   "outputs": [
    {
     "data": {
      "text/plain": [
       "(25000,)"
      ]
     },
     "execution_count": 7,
     "metadata": {
      "tags": []
     },
     "output_type": "execute_result"
    }
   ],
   "source": [
    "y_test.shape"
   ]
  },
  {
   "cell_type": "code",
   "execution_count": 8,
   "metadata": {
    "colab": {
     "base_uri": "https://localhost:8080/",
     "height": 510
    },
    "colab_type": "code",
    "id": "wD9tQPh39IsB",
    "outputId": "c8b2e6d5-476b-4ff7-87d9-f6f245442fd2"
   },
   "outputs": [
    {
     "data": {
      "text/plain": [
       "array([   0,    0,    0,    0,    0,    0,    0,    0,    0,    0,    0,\n",
       "          0,    0,    0,    0,    0,    0,    0,    0,    0,    0,    0,\n",
       "          0,    0,    0,    0,    0,    0,    0,    0,    0,    0,    0,\n",
       "          0,    0,    0,    0,    0,    0,    0,    0,    0,    0,    0,\n",
       "          0,    0,    0,    0,    0,    0,    0,    0,    0,    0,    0,\n",
       "          0,    0,    0,    0,    0,    0,    0,    0,    0,    0,    0,\n",
       "          0,    0,    0,    0,    0,    0,    0,    0,    0,    0,    0,\n",
       "          0,    0,    0,    0,    0,    1,   14,   22,   16,   43,  530,\n",
       "        973, 1622, 1385,   65,  458, 4468,   66, 3941,    4,  173,   36,\n",
       "        256,    5,   25,  100,   43,  838,  112,   50,  670,    2,    9,\n",
       "         35,  480,  284,    5,  150,    4,  172,  112,  167,    2,  336,\n",
       "        385,   39,    4,  172, 4536, 1111,   17,  546,   38,   13,  447,\n",
       "          4,  192,   50,   16,    6,  147, 2025,   19,   14,   22,    4,\n",
       "       1920, 4613,  469,    4,   22,   71,   87,   12,   16,   43,  530,\n",
       "         38,   76,   15,   13, 1247,    4,   22,   17,  515,   17,   12,\n",
       "         16,  626,   18,    2,    5,   62,  386,   12,    8,  316,    8,\n",
       "        106,    5,    4, 2223, 5244,   16,  480,   66, 3785,   33,    4,\n",
       "        130,   12,   16,   38,  619,    5,   25,  124,   51,   36,  135,\n",
       "         48,   25, 1415,   33,    6,   22,   12,  215,   28,   77,   52,\n",
       "          5,   14,  407,   16,   82,    2,    8,    4,  107,  117, 5952,\n",
       "         15,  256,    4,    2,    7, 3766,    5,  723,   36,   71,   43,\n",
       "        530,  476,   26,  400,  317,   46,    7,    4,    2, 1029,   13,\n",
       "        104,   88,    4,  381,   15,  297,   98,   32, 2071,   56,   26,\n",
       "        141,    6,  194, 7486,   18,    4,  226,   22,   21,  134,  476,\n",
       "         26,  480,    5,  144,   30, 5535,   18,   51,   36,   28,  224,\n",
       "         92,   25,  104,    4,  226,   65,   16,   38, 1334,   88,   12,\n",
       "         16,  283,    5,   16, 4472,  113,  103,   32,   15,   16, 5345,\n",
       "         19,  178,   32], dtype=int32)"
      ]
     },
     "execution_count": 8,
     "metadata": {
      "tags": []
     },
     "output_type": "execute_result"
    }
   ],
   "source": [
    "x_train[0]"
   ]
  },
  {
   "cell_type": "code",
   "execution_count": 9,
   "metadata": {
    "colab": {
     "base_uri": "https://localhost:8080/",
     "height": 34
    },
    "colab_type": "code",
    "id": "_Dkn3UnS9nro",
    "outputId": "7fb0617a-6e72-4b40-b209-5c9cda1b213c"
   },
   "outputs": [
    {
     "data": {
      "text/plain": [
       "1"
      ]
     },
     "execution_count": 9,
     "metadata": {
      "tags": []
     },
     "output_type": "execute_result"
    }
   ],
   "source": [
    "y_train[0]"
   ]
  },
  {
   "cell_type": "code",
   "execution_count": 0,
   "metadata": {
    "colab": {},
    "colab_type": "code",
    "id": "Jy6n-uM2eCy2"
   },
   "outputs": [],
   "source": []
  },
  {
   "cell_type": "markdown",
   "metadata": {
    "colab_type": "text",
    "id": "vzZcs7Xn-Mzh"
   },
   "source": [
    "### Design the Model - including Keras Embedding Layer"
   ]
  },
  {
   "cell_type": "code",
   "execution_count": 10,
   "metadata": {
    "colab": {
     "base_uri": "https://localhost:8080/",
     "height": 230
    },
    "colab_type": "code",
    "id": "tZhMAgaNeCy5",
    "outputId": "1b4e3db5-27b4-4929-ac4d-a4162f21e26d"
   },
   "outputs": [
    {
     "name": "stdout",
     "output_type": "stream",
     "text": [
      "WARNING:tensorflow:From /usr/local/lib/python3.6/dist-packages/keras/backend/tensorflow_backend.py:66: The name tf.get_default_graph is deprecated. Please use tf.compat.v1.get_default_graph instead.\n",
      "\n",
      "WARNING:tensorflow:From /usr/local/lib/python3.6/dist-packages/keras/backend/tensorflow_backend.py:541: The name tf.placeholder is deprecated. Please use tf.compat.v1.placeholder instead.\n",
      "\n",
      "WARNING:tensorflow:From /usr/local/lib/python3.6/dist-packages/keras/backend/tensorflow_backend.py:4432: The name tf.random_uniform is deprecated. Please use tf.random.uniform instead.\n",
      "\n",
      "WARNING:tensorflow:From /usr/local/lib/python3.6/dist-packages/keras/backend/tensorflow_backend.py:148: The name tf.placeholder_with_default is deprecated. Please use tf.compat.v1.placeholder_with_default instead.\n",
      "\n",
      "WARNING:tensorflow:From /usr/local/lib/python3.6/dist-packages/keras/backend/tensorflow_backend.py:3733: calling dropout (from tensorflow.python.ops.nn_ops) with keep_prob is deprecated and will be removed in a future version.\n",
      "Instructions for updating:\n",
      "Please use `rate` instead of `keep_prob`. Rate should be set to `rate = 1 - keep_prob`.\n"
     ]
    }
   ],
   "source": [
    "model = models.Sequential()\n",
    "model.add(Embedding(10001, 512, input_length=maxlen))\n",
    "model.add(layers.Dense(256, kernel_regularizer=regularizers.l1(0.001), activation='relu', input_shape=(300,)))\n",
    "model.add(layers.Dropout(0.3))\n",
    "model.add(layers.Dense(64, kernel_regularizer=regularizers.l1(0.001),activation='relu'))\n",
    "model.add(layers.Dropout(0.3))\n",
    "model.add(layers.Flatten())\n",
    "model.add(layers.Dense(1, activation='sigmoid'))\n"
   ]
  },
  {
   "cell_type": "markdown",
   "metadata": {
    "colab_type": "text",
    "id": "1UF8WAXQ6-vk"
   },
   "source": [
    "### Compile Model and Print Summary"
   ]
  },
  {
   "cell_type": "code",
   "execution_count": 11,
   "metadata": {
    "colab": {
     "base_uri": "https://localhost:8080/",
     "height": 565
    },
    "colab_type": "code",
    "id": "e8SH9MFR-j5v",
    "outputId": "4362ecde-a4ae-4f52-924f-cec9e2a67afd"
   },
   "outputs": [
    {
     "name": "stdout",
     "output_type": "stream",
     "text": [
      "WARNING:tensorflow:From /usr/local/lib/python3.6/dist-packages/keras/optimizers.py:793: The name tf.train.Optimizer is deprecated. Please use tf.compat.v1.train.Optimizer instead.\n",
      "\n",
      "WARNING:tensorflow:From /usr/local/lib/python3.6/dist-packages/keras/backend/tensorflow_backend.py:3657: The name tf.log is deprecated. Please use tf.math.log instead.\n",
      "\n",
      "WARNING:tensorflow:From /usr/local/lib/python3.6/dist-packages/tensorflow_core/python/ops/nn_impl.py:183: where (from tensorflow.python.ops.array_ops) is deprecated and will be removed in a future version.\n",
      "Instructions for updating:\n",
      "Use tf.where in 2.0, which has the same broadcast rule as np.where\n",
      "Model: \"sequential_1\"\n",
      "_________________________________________________________________\n",
      "Layer (type)                 Output Shape              Param #   \n",
      "=================================================================\n",
      "embedding_1 (Embedding)      (None, 300, 512)          5120512   \n",
      "_________________________________________________________________\n",
      "dense_1 (Dense)              (None, 300, 256)          131328    \n",
      "_________________________________________________________________\n",
      "dropout_1 (Dropout)          (None, 300, 256)          0         \n",
      "_________________________________________________________________\n",
      "dense_2 (Dense)              (None, 300, 64)           16448     \n",
      "_________________________________________________________________\n",
      "dropout_2 (Dropout)          (None, 300, 64)           0         \n",
      "_________________________________________________________________\n",
      "flatten_1 (Flatten)          (None, 19200)             0         \n",
      "_________________________________________________________________\n",
      "dense_3 (Dense)              (None, 1)                 19201     \n",
      "=================================================================\n",
      "Total params: 5,287,489\n",
      "Trainable params: 5,287,489\n",
      "Non-trainable params: 0\n",
      "_________________________________________________________________\n",
      "None\n"
     ]
    }
   ],
   "source": [
    "model.compile(optimizer='rmsprop', loss='binary_crossentropy', metrics=['acc'])\n",
    "\n",
    "print(model.summary())\n",
    "\n"
   ]
  },
  {
   "cell_type": "markdown",
   "metadata": {
    "colab_type": "text",
    "id": "z-XngAQw7GkK"
   },
   "source": [
    "### Train the Model and Print Accuracy Results"
   ]
  },
  {
   "cell_type": "code",
   "execution_count": 12,
   "metadata": {
    "colab": {
     "base_uri": "https://localhost:8080/",
     "height": 1000
    },
    "colab_type": "code",
    "id": "Aw_r9IKtQPbR",
    "outputId": "716891d2-e3da-406a-83ed-82e5794d0510"
   },
   "outputs": [
    {
     "name": "stdout",
     "output_type": "stream",
     "text": [
      "WARNING:tensorflow:From /usr/local/lib/python3.6/dist-packages/keras/backend/tensorflow_backend.py:1033: The name tf.assign_add is deprecated. Please use tf.compat.v1.assign_add instead.\n",
      "\n",
      "WARNING:tensorflow:From /usr/local/lib/python3.6/dist-packages/keras/backend/tensorflow_backend.py:1020: The name tf.assign is deprecated. Please use tf.compat.v1.assign instead.\n",
      "\n",
      "WARNING:tensorflow:From /usr/local/lib/python3.6/dist-packages/keras/backend/tensorflow_backend.py:3005: The name tf.Session is deprecated. Please use tf.compat.v1.Session instead.\n",
      "\n",
      "Train on 25000 samples, validate on 25000 samples\n",
      "Epoch 1/30\n",
      "WARNING:tensorflow:From /usr/local/lib/python3.6/dist-packages/keras/backend/tensorflow_backend.py:190: The name tf.get_default_session is deprecated. Please use tf.compat.v1.get_default_session instead.\n",
      "\n",
      "WARNING:tensorflow:From /usr/local/lib/python3.6/dist-packages/keras/backend/tensorflow_backend.py:197: The name tf.ConfigProto is deprecated. Please use tf.compat.v1.ConfigProto instead.\n",
      "\n",
      "WARNING:tensorflow:From /usr/local/lib/python3.6/dist-packages/keras/backend/tensorflow_backend.py:207: The name tf.global_variables is deprecated. Please use tf.compat.v1.global_variables instead.\n",
      "\n",
      "WARNING:tensorflow:From /usr/local/lib/python3.6/dist-packages/keras/backend/tensorflow_backend.py:216: The name tf.is_variable_initialized is deprecated. Please use tf.compat.v1.is_variable_initialized instead.\n",
      "\n",
      "WARNING:tensorflow:From /usr/local/lib/python3.6/dist-packages/keras/backend/tensorflow_backend.py:223: The name tf.variables_initializer is deprecated. Please use tf.compat.v1.variables_initializer instead.\n",
      "\n",
      "25000/25000 [==============================] - 4s 157us/step - loss: 3.9475 - acc: 0.5492 - val_loss: 1.7935 - val_acc: 0.5048\n",
      "Epoch 2/30\n",
      "25000/25000 [==============================] - 3s 109us/step - loss: 1.0808 - acc: 0.6702 - val_loss: 0.7461 - val_acc: 0.7704\n",
      "Epoch 3/30\n",
      "25000/25000 [==============================] - 3s 108us/step - loss: 0.6552 - acc: 0.7900 - val_loss: 0.5707 - val_acc: 0.8457\n",
      "Epoch 4/30\n",
      "25000/25000 [==============================] - 3s 109us/step - loss: 0.5254 - acc: 0.8599 - val_loss: 0.5455 - val_acc: 0.8356\n",
      "Epoch 5/30\n",
      "25000/25000 [==============================] - 3s 108us/step - loss: 0.4740 - acc: 0.8770 - val_loss: 0.5057 - val_acc: 0.8568\n",
      "Epoch 6/30\n",
      "25000/25000 [==============================] - 3s 109us/step - loss: 0.4347 - acc: 0.8933 - val_loss: 0.4660 - val_acc: 0.8755\n",
      "Epoch 7/30\n",
      "25000/25000 [==============================] - 3s 109us/step - loss: 0.4130 - acc: 0.9028 - val_loss: 0.4490 - val_acc: 0.8800\n",
      "Epoch 8/30\n",
      "25000/25000 [==============================] - 3s 109us/step - loss: 0.3895 - acc: 0.9120 - val_loss: 0.4400 - val_acc: 0.8839\n",
      "Epoch 9/30\n",
      "25000/25000 [==============================] - 3s 109us/step - loss: 0.3803 - acc: 0.9132 - val_loss: 0.4569 - val_acc: 0.8766\n",
      "Epoch 10/30\n",
      "25000/25000 [==============================] - 3s 109us/step - loss: 0.3570 - acc: 0.9235 - val_loss: 0.4487 - val_acc: 0.8794\n",
      "Epoch 11/30\n",
      "25000/25000 [==============================] - 3s 109us/step - loss: 0.3461 - acc: 0.9272 - val_loss: 0.4436 - val_acc: 0.8795\n",
      "Epoch 12/30\n",
      "25000/25000 [==============================] - 3s 110us/step - loss: 0.3384 - acc: 0.9289 - val_loss: 0.4692 - val_acc: 0.8692\n",
      "Epoch 13/30\n",
      "25000/25000 [==============================] - 3s 110us/step - loss: 0.3278 - acc: 0.9332 - val_loss: 0.4476 - val_acc: 0.8770\n",
      "Epoch 14/30\n",
      "25000/25000 [==============================] - 3s 110us/step - loss: 0.3199 - acc: 0.9340 - val_loss: 0.4591 - val_acc: 0.8722\n",
      "Epoch 15/30\n",
      "25000/25000 [==============================] - 3s 109us/step - loss: 0.3100 - acc: 0.9372 - val_loss: 0.4517 - val_acc: 0.8776\n",
      "Epoch 16/30\n",
      "25000/25000 [==============================] - 3s 109us/step - loss: 0.3036 - acc: 0.9412 - val_loss: 0.4496 - val_acc: 0.8759\n",
      "Epoch 17/30\n",
      "25000/25000 [==============================] - 3s 109us/step - loss: 0.2931 - acc: 0.9458 - val_loss: 0.4831 - val_acc: 0.8654\n",
      "Epoch 18/30\n",
      "25000/25000 [==============================] - 3s 109us/step - loss: 0.2923 - acc: 0.9446 - val_loss: 0.4677 - val_acc: 0.8733\n",
      "Epoch 19/30\n",
      "25000/25000 [==============================] - 3s 108us/step - loss: 0.2822 - acc: 0.9476 - val_loss: 0.5035 - val_acc: 0.8616\n",
      "Epoch 20/30\n",
      "25000/25000 [==============================] - 3s 109us/step - loss: 0.2802 - acc: 0.9477 - val_loss: 0.5189 - val_acc: 0.8566\n",
      "Epoch 21/30\n",
      "25000/25000 [==============================] - 3s 109us/step - loss: 0.2724 - acc: 0.9512 - val_loss: 0.4632 - val_acc: 0.8756\n",
      "Epoch 22/30\n",
      "25000/25000 [==============================] - 3s 108us/step - loss: 0.2674 - acc: 0.9515 - val_loss: 0.4689 - val_acc: 0.8735\n",
      "Epoch 23/30\n",
      "25000/25000 [==============================] - 3s 110us/step - loss: 0.2650 - acc: 0.9516 - val_loss: 0.4710 - val_acc: 0.8736\n",
      "Epoch 24/30\n",
      "25000/25000 [==============================] - 3s 109us/step - loss: 0.2607 - acc: 0.9536 - val_loss: 0.5726 - val_acc: 0.8418\n",
      "Epoch 25/30\n",
      "25000/25000 [==============================] - 3s 110us/step - loss: 0.2593 - acc: 0.9534 - val_loss: 0.4797 - val_acc: 0.8703\n",
      "Epoch 26/30\n",
      "25000/25000 [==============================] - 3s 110us/step - loss: 0.2496 - acc: 0.9568 - val_loss: 0.5011 - val_acc: 0.8656\n",
      "Epoch 27/30\n",
      "25000/25000 [==============================] - 3s 110us/step - loss: 0.2511 - acc: 0.9548 - val_loss: 0.5245 - val_acc: 0.8597\n",
      "Epoch 28/30\n",
      "25000/25000 [==============================] - 3s 110us/step - loss: 0.2447 - acc: 0.9579 - val_loss: 0.5364 - val_acc: 0.8593\n",
      "Epoch 29/30\n",
      "25000/25000 [==============================] - 3s 110us/step - loss: 0.2432 - acc: 0.9595 - val_loss: 0.5278 - val_acc: 0.8596\n",
      "Epoch 30/30\n",
      "25000/25000 [==============================] - 3s 110us/step - loss: 0.2424 - acc: 0.9596 - val_loss: 0.6242 - val_acc: 0.8401\n",
      "25000/25000 [==============================] - 2s 65us/step\n",
      "________________________________________________________________________________\n",
      "Validation Loss and Accuracy:\n",
      "[0.6242404225540161, 0.84012]\n"
     ]
    }
   ],
   "source": [
    "\n",
    "NumEpochs = 30\n",
    "BatchSize = 512\n",
    "\n",
    "history = model.fit(x_train, y_train, epochs=NumEpochs, batch_size=BatchSize, validation_data=(x_test, y_test))\n",
    "\n",
    "results = model.evaluate(x_test, y_test)\n",
    "print(\"_\"*80)\n",
    "print(\"Validation Loss and Accuracy:\")\n",
    "print(results)"
   ]
  },
  {
   "cell_type": "markdown",
   "metadata": {
    "colab_type": "text",
    "id": "Igq8Qm8GeCzG"
   },
   "source": [
    "## Retrieve the output of each layer in keras for a given single test sample"
   ]
  },
  {
   "cell_type": "markdown",
   "metadata": {
    "colab_type": "text",
    "id": "FDWC8IB_7gPz"
   },
   "source": [
    "### Get Model Layer names and select layers"
   ]
  },
  {
   "cell_type": "code",
   "execution_count": 13,
   "metadata": {
    "colab": {
     "base_uri": "https://localhost:8080/",
     "height": 34
    },
    "colab_type": "code",
    "id": "aDhNgAnFVS64",
    "outputId": "c78bf936-ecc8-4e25-fb0e-f3e17e8f7404"
   },
   "outputs": [
    {
     "name": "stdout",
     "output_type": "stream",
     "text": [
      "layer names list:  ['embedding_1', 'dense_1', 'dropout_1', 'dense_2', 'dropout_2', 'flatten_1', 'dense_3']\n"
     ]
    }
   ],
   "source": [
    "layer_names_list = [layr.name for layr in model.layers]\n",
    "print (\"layer names list: \", layer_names_list)  "
   ]
  },
  {
   "cell_type": "code",
   "execution_count": 14,
   "metadata": {
    "colab": {
     "base_uri": "https://localhost:8080/",
     "height": 34
    },
    "colab_type": "code",
    "id": "0AqOnLa2eCzH",
    "outputId": "0dac8519-cd5c-4321-9b58-c8c7a9e6bdb4"
   },
   "outputs": [
    {
     "name": "stdout",
     "output_type": "stream",
     "text": [
      "[0, 1, 2, 3, 4, 5, 6]\n"
     ]
    }
   ],
   "source": [
    "selected_layers = ['embedding_1', 'dense_1', 'dropout_1', 'dense_2', 'dropout_2', 'flatten_1', 'dense_3']\n",
    "matched_indices = [i for i, item in enumerate(layer_names_list) if item in selected_layers]\n",
    "print (matched_indices)"
   ]
  },
  {
   "cell_type": "code",
   "execution_count": 0,
   "metadata": {
    "colab": {},
    "colab_type": "code",
    "id": "-dUDSg7VeCzM"
   },
   "outputs": [],
   "source": [
    "selected_layers_outputs = []\n",
    "for lr in range(len(matched_indices)):\n",
    "   outputs = model.layers[matched_indices[lr]].output \n",
    "   #output from selected layers\n",
    "   selected_layers_outputs.append(outputs)\n"
   ]
  },
  {
   "cell_type": "markdown",
   "metadata": {
    "colab_type": "text",
    "id": "e0YABIk87o1z"
   },
   "source": [
    "### Build Model for Display of Layer Outputs "
   ]
  },
  {
   "cell_type": "code",
   "execution_count": 0,
   "metadata": {
    "colab": {},
    "colab_type": "code",
    "id": "c9FYjsFOV_Yt"
   },
   "outputs": [],
   "source": [
    "from keras.models import Model\n",
    "display_model = Model(inputs = model.input, outputs = selected_layers_outputs)"
   ]
  },
  {
   "cell_type": "markdown",
   "metadata": {
    "colab_type": "text",
    "id": "crhgTeri78vs"
   },
   "source": [
    "### Select an input from 25000 Test Data points"
   ]
  },
  {
   "cell_type": "code",
   "execution_count": 0,
   "metadata": {
    "colab": {},
    "colab_type": "code",
    "id": "o8GNtHGyWJbe"
   },
   "outputs": [],
   "source": [
    "selected_feature_maps = display_model.predict(x_test[24300:24301])"
   ]
  },
  {
   "cell_type": "markdown",
   "metadata": {
    "colab_type": "text",
    "id": "8bhjJBLY8H0x"
   },
   "source": [
    "Output of Layer **'embedding_1'**"
   ]
  },
  {
   "cell_type": "code",
   "execution_count": 18,
   "metadata": {
    "colab": {
     "base_uri": "https://localhost:8080/",
     "height": 246
    },
    "colab_type": "code",
    "id": "6bEsEIReW_gn",
    "outputId": "c4e3761c-0732-4bc8-d486-21b899f16002"
   },
   "outputs": [
    {
     "name": "stdout",
     "output_type": "stream",
     "text": [
      "[[[-0.0108036   0.13904348 -0.00908325 ... -0.00131345  0.0097856\n",
      "    0.07019526]\n",
      "  [-0.0108036   0.13904348 -0.00908325 ... -0.00131345  0.0097856\n",
      "    0.07019526]\n",
      "  [-0.0108036   0.13904348 -0.00908325 ... -0.00131345  0.0097856\n",
      "    0.07019526]\n",
      "  ...\n",
      "  [-0.02235573 -0.07827283  0.02279053 ... -0.05432862 -0.00015859\n",
      "   -0.03288679]\n",
      "  [ 0.07425639  0.01446936 -0.02833833 ...  0.02202661 -0.00790284\n",
      "   -0.01863442]\n",
      "  [ 0.03605311  0.03661082 -0.06151279 ...  0.03023439 -0.01297506\n",
      "   -0.00981976]]]\n"
     ]
    }
   ],
   "source": [
    "print(selected_feature_maps[0])"
   ]
  },
  {
   "cell_type": "markdown",
   "metadata": {
    "colab_type": "text",
    "id": "d0UdXMVr8R3i"
   },
   "source": [
    "Output of Layer **'dense_1'**\n",
    "\n"
   ]
  },
  {
   "cell_type": "code",
   "execution_count": 19,
   "metadata": {
    "colab": {
     "base_uri": "https://localhost:8080/",
     "height": 140
    },
    "colab_type": "code",
    "id": "8GTYeEv50WZr",
    "outputId": "6cecfd1f-d658-42a0-f20f-af3bf7c9c7a6"
   },
   "outputs": [
    {
     "name": "stdout",
     "output_type": "stream",
     "text": [
      "[[[0.         0.         0.         ... 0.         0.         0.        ]\n",
      "  [0.         0.         0.         ... 0.         0.         0.        ]\n",
      "  [0.         0.         0.         ... 0.         0.         0.        ]\n",
      "  ...\n",
      "  [0.         0.         0.         ... 0.17173481 0.         0.        ]\n",
      "  [0.         0.         0.         ... 0.         0.         0.        ]\n",
      "  [0.         0.         0.         ... 0.         0.         0.        ]]]\n"
     ]
    }
   ],
   "source": [
    "print(selected_feature_maps[1])"
   ]
  },
  {
   "cell_type": "markdown",
   "metadata": {
    "colab_type": "text",
    "id": "FttOqPri8Scw"
   },
   "source": [
    "Output of Layer **'dropout_1'**"
   ]
  },
  {
   "cell_type": "code",
   "execution_count": 20,
   "metadata": {
    "colab": {
     "base_uri": "https://localhost:8080/",
     "height": 140
    },
    "colab_type": "code",
    "id": "iprDQbxm0Wqz",
    "outputId": "557fc5e0-d969-44a4-ffd4-e756458bec98"
   },
   "outputs": [
    {
     "name": "stdout",
     "output_type": "stream",
     "text": [
      "[[[0.         0.         0.         ... 0.         0.         0.        ]\n",
      "  [0.         0.         0.         ... 0.         0.         0.        ]\n",
      "  [0.         0.         0.         ... 0.         0.         0.        ]\n",
      "  ...\n",
      "  [0.         0.         0.         ... 0.17173481 0.         0.        ]\n",
      "  [0.         0.         0.         ... 0.         0.         0.        ]\n",
      "  [0.         0.         0.         ... 0.         0.         0.        ]]]\n"
     ]
    }
   ],
   "source": [
    "print(selected_feature_maps[2])"
   ]
  },
  {
   "cell_type": "markdown",
   "metadata": {
    "colab_type": "text",
    "id": "1BPc-LMt8TDm"
   },
   "source": [
    "Output of Layer **'dense_2'**"
   ]
  },
  {
   "cell_type": "code",
   "execution_count": 21,
   "metadata": {
    "colab": {
     "base_uri": "https://localhost:8080/",
     "height": 140
    },
    "colab_type": "code",
    "id": "AaAAFeum0Wy1",
    "outputId": "ad9f693c-eefe-4905-9ca3-1062278a3eb8"
   },
   "outputs": [
    {
     "name": "stdout",
     "output_type": "stream",
     "text": [
      "[[[0.         0.         0.         ... 0.         0.         0.        ]\n",
      "  [0.         0.         0.         ... 0.         0.         0.        ]\n",
      "  [0.         0.         0.         ... 0.         0.         0.        ]\n",
      "  ...\n",
      "  [0.07406334 0.08916754 0.05824891 ... 0.09130906 0.056501   0.07584336]\n",
      "  [0.         0.         0.         ... 0.         0.         0.        ]\n",
      "  [0.         0.         0.         ... 0.         0.         0.        ]]]\n"
     ]
    }
   ],
   "source": [
    "print(selected_feature_maps[3])"
   ]
  },
  {
   "cell_type": "markdown",
   "metadata": {
    "colab_type": "text",
    "id": "8Qau4f6-8TrW"
   },
   "source": [
    "Output of Layer **'dropout_2'**"
   ]
  },
  {
   "cell_type": "code",
   "execution_count": 22,
   "metadata": {
    "colab": {
     "base_uri": "https://localhost:8080/",
     "height": 140
    },
    "colab_type": "code",
    "id": "Zce4n3ty0W5_",
    "outputId": "310ce456-ed72-4850-d122-35bd395e69b9"
   },
   "outputs": [
    {
     "name": "stdout",
     "output_type": "stream",
     "text": [
      "[[[0.         0.         0.         ... 0.         0.         0.        ]\n",
      "  [0.         0.         0.         ... 0.         0.         0.        ]\n",
      "  [0.         0.         0.         ... 0.         0.         0.        ]\n",
      "  ...\n",
      "  [0.07406334 0.08916754 0.05824891 ... 0.09130906 0.056501   0.07584336]\n",
      "  [0.         0.         0.         ... 0.         0.         0.        ]\n",
      "  [0.         0.         0.         ... 0.         0.         0.        ]]]\n"
     ]
    }
   ],
   "source": [
    "print(selected_feature_maps[4])"
   ]
  },
  {
   "cell_type": "markdown",
   "metadata": {
    "colab_type": "text",
    "id": "eBFWCCFG8UMM"
   },
   "source": [
    "Output of Layer **'flatten_1'**"
   ]
  },
  {
   "cell_type": "code",
   "execution_count": 23,
   "metadata": {
    "colab": {
     "base_uri": "https://localhost:8080/",
     "height": 34
    },
    "colab_type": "code",
    "id": "GOIxqrE-0XAw",
    "outputId": "f66ab2da-f493-480c-8e60-03020f0beab5"
   },
   "outputs": [
    {
     "name": "stdout",
     "output_type": "stream",
     "text": [
      "[[0. 0. 0. ... 0. 0. 0.]]\n"
     ]
    }
   ],
   "source": [
    "print(selected_feature_maps[5])"
   ]
  },
  {
   "cell_type": "markdown",
   "metadata": {
    "colab_type": "text",
    "id": "ACmhPCtU8Vh0"
   },
   "source": [
    "Output of Layer **'dense_3'**"
   ]
  },
  {
   "cell_type": "code",
   "execution_count": 24,
   "metadata": {
    "colab": {
     "base_uri": "https://localhost:8080/",
     "height": 34
    },
    "colab_type": "code",
    "id": "FCFIu1-A0XNA",
    "outputId": "280c447e-33e7-4745-8287-706fc26844cf"
   },
   "outputs": [
    {
     "name": "stdout",
     "output_type": "stream",
     "text": [
      "[[0.99334717]]\n"
     ]
    }
   ],
   "source": [
    "print(selected_feature_maps[6])"
   ]
  },
  {
   "cell_type": "code",
   "execution_count": 0,
   "metadata": {
    "colab": {},
    "colab_type": "code",
    "id": "Tskt_1npeCzP"
   },
   "outputs": [],
   "source": []
  }
 ],
 "metadata": {
  "accelerator": "GPU",
  "colab": {
   "collapsed_sections": [],
   "name": "AIML 2019 - Module 11 Project - NLP Part 1 - Sentiment Classification - Sudarshan Vaidya.ipynb",
   "provenance": []
  },
  "kernelspec": {
   "display_name": "Python 3",
   "language": "python",
   "name": "python3"
  },
  "language_info": {
   "codemirror_mode": {
    "name": "ipython",
    "version": 3
   },
   "file_extension": ".py",
   "mimetype": "text/x-python",
   "name": "python",
   "nbconvert_exporter": "python",
   "pygments_lexer": "ipython3",
   "version": "3.7.4"
  }
 },
 "nbformat": 4,
 "nbformat_minor": 1
}
